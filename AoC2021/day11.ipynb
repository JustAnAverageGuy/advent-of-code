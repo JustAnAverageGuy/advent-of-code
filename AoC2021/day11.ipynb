{
 "cells": [
  {
   "cell_type": "code",
   "execution_count": 47,
   "metadata": {},
   "outputs": [],
   "source": [
    "import numpy as np\n",
    "with open(\"input11.txt\", 'r') as file:\n",
    "    x = np.genfromtxt(file, dtype=int, delimiter=1)\n"
   ]
  },
  {
   "cell_type": "code",
   "execution_count": 48,
   "metadata": {},
   "outputs": [],
   "source": [
    "def nex(octopi):\n",
    "    dirn = [(i,j) for i in range(-1,2) for j in range(-1,2) if not ( i==j == 0) ]\n",
    "    padocto = np.pad(octopi,pad_width=1,mode='constant',constant_values= -10)\n",
    "    padocto += 1\n",
    "    flashed = np.zeros_like(padocto,dtype=int)\n",
    "    while (True in (padocto>9)):\n",
    "        for index , energy in np.ndenumerate(padocto):\n",
    "            if 0 < index[0] < len(padocto)-1 and 0 < index[1] < len(padocto[0]) - 1: \n",
    "                if energy > 9 and not(flashed[index]):\n",
    "                    flashed[index] = 1\n",
    "                    for k in dirn:\n",
    "                        padocto[index[0]+k[0],index[1]+k[1]] += 1 if not(flashed[index[0]+k[0],index[1]+k[1]]) else 0\n",
    "                    padocto[index] = 0\n",
    "    return padocto[1:-1,1:-1],np.count_nonzero(flashed)"
   ]
  },
  {
   "cell_type": "code",
   "execution_count": 49,
   "metadata": {},
   "outputs": [
    {
     "name": "stdout",
     "output_type": "stream",
     "text": [
      "219\n",
      "229\n",
      "239\n",
      "249\n",
      "259\n",
      "269\n",
      "279\n",
      "289\n",
      "299\n",
      "309\n",
      "319\n",
      "329\n",
      "339\n",
      "349\n",
      "359\n",
      "369\n",
      "379\n",
      "389\n",
      "399\n",
      "409\n",
      "419\n",
      "429\n",
      "439\n",
      "449\n",
      "459\n",
      "469\n",
      "479\n",
      "489\n",
      "499\n",
      "509\n",
      "519\n",
      "529\n",
      "539\n",
      "549\n",
      "559\n",
      "569\n",
      "579\n",
      "589\n",
      "599\n",
      "609\n",
      "619\n",
      "629\n",
      "639\n",
      "649\n",
      "659\n",
      "669\n",
      "679\n",
      "689\n",
      "699\n",
      "709\n",
      "719\n",
      "729\n",
      "739\n",
      "749\n",
      "759\n",
      "769\n",
      "779\n",
      "789\n",
      "799\n",
      "809\n",
      "819\n",
      "829\n",
      "839\n",
      "849\n",
      "859\n",
      "869\n",
      "879\n",
      "889\n",
      "899\n",
      "909\n",
      "919\n",
      "929\n",
      "939\n",
      "949\n",
      "959\n",
      "969\n",
      "979\n",
      "989\n",
      "999\n"
     ]
    }
   ],
   "source": [
    "cnt  = 0\n",
    "for i in range(1000):\n",
    "    x,p = nex(x)\n",
    "    if p == 100:\n",
    "        print(i+1)\n"
   ]
  },
  {
   "cell_type": "code",
   "execution_count": null,
   "metadata": {},
   "outputs": [],
   "source": []
  }
 ],
 "metadata": {
  "interpreter": {
   "hash": "4ce0e62306dd6a5716965d4519ada776f947e6dfc145b604b11307c10277ef29"
  },
  "kernelspec": {
   "display_name": "Python 3.9.7 64-bit",
   "language": "python",
   "name": "python3"
  },
  "language_info": {
   "codemirror_mode": {
    "name": "ipython",
    "version": 3
   },
   "file_extension": ".py",
   "mimetype": "text/x-python",
   "name": "python",
   "nbconvert_exporter": "python",
   "pygments_lexer": "ipython3",
   "version": "3.9.7"
  },
  "orig_nbformat": 4
 },
 "nbformat": 4,
 "nbformat_minor": 2
}
