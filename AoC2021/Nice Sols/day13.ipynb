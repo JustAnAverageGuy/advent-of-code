{
 "cells": [
  {
   "cell_type": "code",
   "execution_count": 2,
   "metadata": {},
   "outputs": [
    {
     "name": "stdout",
     "output_type": "stream",
     "text": [
      "689\n",
      "593\n",
      "499\n",
      "408\n",
      "339\n",
      "279\n",
      "235\n",
      "196\n",
      "164\n",
      "142\n",
      "117\n",
      "91\n",
      "[[███  █    ███   ██    ██  ██  █    █  █ ]\n",
      " [█  █ █    █  █ █  █    █ █  █ █    █  █ ]\n",
      " [█  █ █    ███  █       █ █    █    █  █ ]\n",
      " [███  █    █  █ █       █ █ ██ █    █  █ ]\n",
      " [█ █  █    █  █ █  █ █  █ █  █ █    █  █ ]\n",
      " [█  █ ████ ███   ██   ██   ███ ████  ██  ]]\n"
     ]
    }
   ],
   "source": [
    "import numpy as np\n",
    "from parse import findall\n",
    "\n",
    "instr = open(\"input13.txt\").read()\n",
    "P = np.zeros((9999,9999), bool)\n",
    "\n",
    "for x,y in findall('{:d},{:d}', instr):\n",
    "    P[y,x] = True\n",
    "\n",
    "for axis, a in findall('{:l}={:d}', instr):\n",
    "    if axis == 'x': P = P[:,:a] | P[:,2*a:a:-1]\n",
    "    if axis == 'y': P = P[:a,:] | P[2*a:a:-1,:]\n",
    "    print(P.sum())\n",
    "\n",
    "print(np.array2string(P, separator='',\n",
    "    formatter = {'bool':{0:' ',1:'█'}.get}))"
   ]
  },
  {
   "cell_type": "code",
   "execution_count": null,
   "metadata": {},
   "outputs": [],
   "source": []
  }
 ],
 "metadata": {
  "interpreter": {
   "hash": "4ce0e62306dd6a5716965d4519ada776f947e6dfc145b604b11307c10277ef29"
  },
  "kernelspec": {
   "display_name": "Python 3.9.7 64-bit",
   "language": "python",
   "name": "python3"
  },
  "language_info": {
   "codemirror_mode": {
    "name": "ipython",
    "version": 3
   },
   "file_extension": ".py",
   "mimetype": "text/x-python",
   "name": "python",
   "nbconvert_exporter": "python",
   "pygments_lexer": "ipython3",
   "version": "3.9.7"
  },
  "orig_nbformat": 4
 },
 "nbformat": 4,
 "nbformat_minor": 2
}
